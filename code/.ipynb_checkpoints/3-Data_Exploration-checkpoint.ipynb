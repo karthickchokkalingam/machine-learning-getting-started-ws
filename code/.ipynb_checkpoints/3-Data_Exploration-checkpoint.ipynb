{
 "cells": [
  {
   "cell_type": "code",
   "execution_count": 1,
   "metadata": {
    "ExecuteTime": {
     "end_time": "2018-11-17T11:02:26.309290Z",
     "start_time": "2018-11-17T11:02:21.109069Z"
    }
   },
   "outputs": [
    {
     "ename": "ModuleNotFoundError",
     "evalue": "No module named 'seaborn'",
     "output_type": "error",
     "traceback": [
      "\u001b[0;31m---------------------------------------------------------------------------\u001b[0m",
      "\u001b[0;31mModuleNotFoundError\u001b[0m                       Traceback (most recent call last)",
      "\u001b[0;32m<ipython-input-1-9f5faf11b6f1>\u001b[0m in \u001b[0;36m<module>\u001b[0;34m()\u001b[0m\n\u001b[1;32m      3\u001b[0m \u001b[0;32mimport\u001b[0m \u001b[0mpandas\u001b[0m \u001b[0;32mas\u001b[0m \u001b[0mpd\u001b[0m \u001b[0;31m#### Library for working with large datsets\u001b[0m\u001b[0;34m\u001b[0m\u001b[0m\n\u001b[1;32m      4\u001b[0m \u001b[0;32mimport\u001b[0m \u001b[0mnumpy\u001b[0m \u001b[0;32mas\u001b[0m \u001b[0mnp\u001b[0m \u001b[0;31m#### Library for performing numerical calculations\u001b[0m\u001b[0;34m\u001b[0m\u001b[0m\n\u001b[0;32m----> 5\u001b[0;31m \u001b[0;32mimport\u001b[0m \u001b[0mseaborn\u001b[0m \u001b[0;32mas\u001b[0m \u001b[0msns\u001b[0m \u001b[0;31m#### Library for plotting graphs. This is a layer on top of matplotlib\u001b[0m\u001b[0;34m\u001b[0m\u001b[0m\n\u001b[0m\u001b[1;32m      6\u001b[0m \u001b[0;32mimport\u001b[0m \u001b[0mmatplotlib\u001b[0m\u001b[0;34m.\u001b[0m\u001b[0mpyplot\u001b[0m \u001b[0;32mas\u001b[0m \u001b[0mplt\u001b[0m \u001b[0;31m#### Basic Library for plotting graphs\u001b[0m\u001b[0;34m\u001b[0m\u001b[0m\n\u001b[1;32m      7\u001b[0m \u001b[0;31m#### Configuring Matplotlib to show Plots inline\u001b[0m\u001b[0;34m\u001b[0m\u001b[0;34m\u001b[0m\u001b[0m\n",
      "\u001b[0;31mModuleNotFoundError\u001b[0m: No module named 'seaborn'"
     ]
    }
   ],
   "source": [
    "#!/usr/bin/env python3\n",
    "#### Import all the required libraries\n",
    "import pandas as pd #### Library for working with large datsets\n",
    "import numpy as np #### Library for performing numerical calculations\n",
    "import seaborn as sns #### Library for plotting graphs. This is a layer on top of matplotlib\n",
    "import matplotlib.pyplot as plt #### Basic Library for plotting graphs\n",
    "#### Configuring Matplotlib to show Plots inline\n",
    "%matplotlib inline \n",
    "plt.rcParams['figure.figsize'] = (12, 12) ### Setting the size of the Plots"
   ]
  },
  {
   "cell_type": "code",
   "execution_count": null,
   "metadata": {
    "ExecuteTime": {
     "end_time": "2018-11-17T11:02:26.310601Z",
     "start_time": "2018-11-17T11:02:21.114Z"
    }
   },
   "outputs": [],
   "source": [
    "#### Load the Data File\n",
    "data = pd.read_csv('https://raw.githubusercontent.com/pracasrv/machine-learning-getting-started-ws/master/data/Sample_Data.csv')\n",
    "print(data)"
   ]
  },
  {
   "cell_type": "code",
   "execution_count": null,
   "metadata": {
    "ExecuteTime": {
     "end_time": "2018-11-17T11:02:26.312188Z",
     "start_time": "2018-11-17T11:02:21.118Z"
    }
   },
   "outputs": [],
   "source": [
    "#### Check the General Information about the loaded dataset\n",
    "print(data.info()) ### Float"
   ]
  },
  {
   "cell_type": "code",
   "execution_count": null,
   "metadata": {
    "ExecuteTime": {
     "end_time": "2018-11-17T11:02:26.313706Z",
     "start_time": "2018-11-17T11:02:21.121Z"
    }
   },
   "outputs": [],
   "source": [
    "#### Check Data Description Overview\n",
    "print(data.describe())"
   ]
  },
  {
   "cell_type": "markdown",
   "metadata": {},
   "source": [
    "#### ##### Handling Missing Values - We have missing Values in 2 Columns Age & Salary\n"
   ]
  },
  {
   "cell_type": "code",
   "execution_count": null,
   "metadata": {
    "ExecuteTime": {
     "end_time": "2018-11-17T11:02:26.315739Z",
     "start_time": "2018-11-17T11:02:21.123Z"
    }
   },
   "outputs": [],
   "source": [
    "#### Lets fix the missing Age with respect to the Mean value for Age\n",
    "mean = np.mean(data.Age)\n",
    "data.Age = data.Age.fillna(mean)\n",
    "print(data)"
   ]
  },
  {
   "cell_type": "code",
   "execution_count": null,
   "metadata": {
    "ExecuteTime": {
     "end_time": "2018-11-17T11:02:26.317157Z",
     "start_time": "2018-11-17T11:02:21.125Z"
    },
    "collapsed": true
   },
   "outputs": [],
   "source": [
    "#### Lets use an inbuilt function interpolate to fix the salary mixing values\n",
    "data.Salary = data.Salary.interpolate()"
   ]
  },
  {
   "cell_type": "code",
   "execution_count": null,
   "metadata": {
    "ExecuteTime": {
     "end_time": "2018-11-17T11:02:26.318653Z",
     "start_time": "2018-11-17T11:02:21.128Z"
    }
   },
   "outputs": [],
   "source": [
    "print(data)"
   ]
  },
  {
   "cell_type": "markdown",
   "metadata": {},
   "source": [
    "#### ####  - Lets See How a Pair of Variables is distributed in relation to each other"
   ]
  },
  {
   "cell_type": "code",
   "execution_count": null,
   "metadata": {
    "ExecuteTime": {
     "end_time": "2018-11-17T11:02:26.319989Z",
     "start_time": "2018-11-17T11:02:21.132Z"
    }
   },
   "outputs": [],
   "source": [
    "#### Lets use a scatter plot to see how Age and Salary are distributed\n",
    "data.plot.scatter(x='Age', y='Salary')"
   ]
  },
  {
   "cell_type": "code",
   "execution_count": null,
   "metadata": {
    "ExecuteTime": {
     "end_time": "2018-11-17T11:02:26.322301Z",
     "start_time": "2018-11-17T11:02:21.135Z"
    }
   },
   "outputs": [],
   "source": [
    "### lets drop all the dummy data we added - the last 6 records\n",
    "data = pd.read_csv('Sample_Data.csv')\n",
    "data = data[:-6]\n",
    "print(data)"
   ]
  },
  {
   "cell_type": "code",
   "execution_count": null,
   "metadata": {
    "ExecuteTime": {
     "end_time": "2018-11-17T11:02:26.323740Z",
     "start_time": "2018-11-17T11:02:21.137Z"
    }
   },
   "outputs": [],
   "source": [
    "#Lets compute mean of the missing values\n",
    "#### by their respective countries and see how the graph comes out\n",
    "mean_ages = data.groupby('Country').Age.mean()\n",
    "\n",
    "data.Age = data.Age.fillna(mean_ages.Spain)\n",
    "print(data)"
   ]
  },
  {
   "cell_type": "code",
   "execution_count": null,
   "metadata": {
    "ExecuteTime": {
     "end_time": "2018-11-17T11:02:26.325266Z",
     "start_time": "2018-11-17T11:02:21.139Z"
    }
   },
   "outputs": [],
   "source": [
    "mean_salary = data.groupby('Country').Salary.mean()\n",
    "data.Salary = data.Salary.fillna(mean_salary.Germany)\n",
    "print(data)"
   ]
  },
  {
   "cell_type": "code",
   "execution_count": null,
   "metadata": {
    "ExecuteTime": {
     "end_time": "2018-11-17T11:02:26.326658Z",
     "start_time": "2018-11-17T11:02:21.142Z"
    }
   },
   "outputs": [],
   "source": [
    "data.plot.scatter(x='Age', y='Salary')"
   ]
  },
  {
   "cell_type": "markdown",
   "metadata": {},
   "source": [
    "###  One Hot Encoding\n",
    "Replace categorical values by creating new columns and creating a binary representation\n",
    "\n",
    "##### Lets replace the Country Values with their corresponding one hot encoded values"
   ]
  },
  {
   "cell_type": "code",
   "execution_count": 16,
   "metadata": {
    "ExecuteTime": {
     "end_time": "2018-09-17T15:16:49.653567Z",
     "start_time": "2018-09-17T15:16:49.627665Z"
    }
   },
   "outputs": [
    {
     "name": "stdout",
     "output_type": "stream",
     "text": [
      "   France  Germany  Spain\n",
      "0       1        0      0\n",
      "1       0        0      1\n",
      "2       0        1      0\n",
      "3       0        0      1\n",
      "4       0        1      0\n",
      "5       1        0      0\n",
      "6       0        0      1\n",
      "7       1        0      0\n",
      "8       0        1      0\n",
      "9       1        0      0\n"
     ]
    }
   ],
   "source": [
    "#### First lets extract the one hot encoded columns into a new data_frame called one_hot\n",
    "one_hot_data = pd.get_dummies(data['Country'])\n",
    "print(one_hot_data)"
   ]
  },
  {
   "cell_type": "code",
   "execution_count": 17,
   "metadata": {
    "ExecuteTime": {
     "end_time": "2018-09-17T15:16:49.758899Z",
     "start_time": "2018-09-17T15:16:49.663347Z"
    }
   },
   "outputs": [
    {
     "name": "stdout",
     "output_type": "stream",
     "text": [
      "    Age   Salary Purchased  France  Germany  Spain\n",
      "0  44.0  72000.0        No       1        0      0\n",
      "1  27.0  48000.0       Yes       0        0      1\n",
      "2  30.0  54000.0        No       0        1      0\n",
      "3  38.0  61000.0        No       0        0      1\n",
      "4  40.0  68500.0       Yes       0        1      0\n",
      "5  35.0  58000.0       Yes       1        0      0\n",
      "6  32.5  52000.0        No       0        0      1\n",
      "7  48.0  79000.0       Yes       1        0      0\n",
      "8  50.0  83000.0        No       0        1      0\n",
      "9  37.0  67000.0       Yes       1        0      0\n"
     ]
    }
   ],
   "source": [
    "#### Next lets drop the country row from our data frame\n",
    "data = data.drop('Country',1)\n",
    "#### and add the new dataframe to our existing dataframe\n",
    "data = data.join(one_hot_data)\n",
    "print(data)"
   ]
  }
 ],
 "metadata": {
  "kernelspec": {
   "display_name": "Python 3",
   "language": "python",
   "name": "python3"
  },
  "language_info": {
   "codemirror_mode": {
    "name": "ipython",
    "version": 3
   },
   "file_extension": ".py",
   "mimetype": "text/x-python",
   "name": "python",
   "nbconvert_exporter": "python",
   "pygments_lexer": "ipython3",
   "version": "3.6.1"
  }
 },
 "nbformat": 4,
 "nbformat_minor": 2
}
