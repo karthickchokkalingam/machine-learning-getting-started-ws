{
 "cells": [
  {
   "cell_type": "markdown",
   "metadata": {},
   "source": [
    "##  Pandas Usage Overview"
   ]
  },
  {
   "cell_type": "code",
   "execution_count": 8,
   "metadata": {
    "ExecuteTime": {
     "end_time": "2018-09-10T05:40:37.418466Z",
     "start_time": "2018-09-10T05:40:37.360862Z"
    }
   },
   "outputs": [
    {
     "name": "stdout",
     "output_type": "stream",
     "text": [
      "/home/pracas/MACHINE LEARNING COURSE/Workshop/workshop_distro_sep2018\n"
     ]
    }
   ],
   "source": [
    "import os\n",
    "print(os.getcwd())"
   ]
  },
  {
   "cell_type": "code",
   "execution_count": 7,
   "metadata": {
    "ExecuteTime": {
     "end_time": "2018-09-10T05:40:37.343958Z",
     "start_time": "2018-09-10T05:40:37.334938Z"
    },
    "collapsed": true
   },
   "outputs": [],
   "source": [
    "import pandas as pd"
   ]
  },
  {
   "cell_type": "code",
   "execution_count": 9,
   "metadata": {
    "ExecuteTime": {
     "end_time": "2018-09-10T05:40:37.547548Z",
     "start_time": "2018-09-10T05:40:37.420934Z"
    },
    "collapsed": true
   },
   "outputs": [
    {
     "name": "stdout",
     "output_type": "stream",
     "text": [
      "    Country   Age   Salary Purchased\n",
      "0    France  44.0  72000.0        No\n",
      "1     Spain  27.0  48000.0       Yes\n",
      "2   Germany  30.0  54000.0        No\n",
      "3     Spain  38.0  61000.0        No\n",
      "4   Germany  40.0      NaN       Yes\n",
      "5    France  35.0  58000.0       Yes\n",
      "6     Spain   NaN  52000.0        No\n",
      "7    France  48.0  79000.0       Yes\n",
      "8   Germany  50.0  83000.0        No\n",
      "9    France  37.0  67000.0       Yes\n",
      "10    India   NaN  78000.0        No\n",
      "11    India  28.0      NaN       Yes\n",
      "12    Spain  36.0  56000.0       Yes\n",
      "13   France  42.0  70000.0       Yes\n",
      "14  Germany  50.0  86000.0        No\n",
      "15    India  30.0  90000.0       Yes\n",
      "#############################\n"
     ]
    }
   ],
   "source": [
    "#### Reading from a csv file\n",
    "df = pd.read_csv('https://raw.githubusercontent.com/pracasrv/machine-learning-getting-started-ws/master/data/Sample_Data.csv')\n",
    "print(df)\n",
    "print(\"#############################\")"
   ]
  },
  {
   "cell_type": "markdown",
   "metadata": {},
   "source": [
    "#### Navigating through a Dataframe"
   ]
  },
  {
   "cell_type": "code",
   "execution_count": 10,
   "metadata": {
    "ExecuteTime": {
     "end_time": "2018-09-10T05:40:37.678372Z",
     "start_time": "2018-09-10T05:40:37.557294Z"
    }
   },
   "outputs": [
    {
     "name": "stdout",
     "output_type": "stream",
     "text": [
      "   Country   Age   Salary Purchased\n",
      "4  Germany  40.0      NaN       Yes\n",
      "5   France  35.0  58000.0       Yes\n",
      "6    Spain   NaN  52000.0        No\n",
      "   Country   Age   Salary Purchased\n",
      "4  Germany  40.0      NaN       Yes\n",
      "5   France  35.0  58000.0       Yes\n",
      "6    Spain   NaN  52000.0        No\n",
      "#############################\n"
     ]
    }
   ],
   "source": [
    "### get the records numbering 4 to 7 - index start at 0\n",
    "print(df[4:7]) \n",
    "print(df.iloc[4:7])\n",
    "print(\"#############################\")"
   ]
  },
  {
   "cell_type": "code",
   "execution_count": 11,
   "metadata": {
    "ExecuteTime": {
     "end_time": "2018-09-10T05:40:37.758585Z",
     "start_time": "2018-09-10T05:40:37.703223Z"
    },
    "collapsed": true
   },
   "outputs": [
    {
     "name": "stdout",
     "output_type": "stream",
     "text": [
      "Germany\n",
      "Germany\n",
      "Germany\n",
      "Germany\n",
      "#############################\n"
     ]
    }
   ],
   "source": [
    "#### get the country value for the 4th record\n",
    "print(df['Country'][4])\n",
    "print(df.Country[4])\n",
    "print(df.iloc[4,0])\n",
    "print(df.loc[4,'Country'])\n",
    "print(\"#############################\")\n"
   ]
  },
  {
   "cell_type": "code",
   "execution_count": 12,
   "metadata": {
    "ExecuteTime": {
     "end_time": "2018-09-10T05:40:37.942804Z",
     "start_time": "2018-09-10T05:40:37.768965Z"
    }
   },
   "outputs": [
    {
     "name": "stdout",
     "output_type": "stream",
     "text": [
      "    Country   Age   Salary Purchased\n",
      "0    France  44.0  72000.0        No\n",
      "1     Spain  27.0  48000.0       Yes\n",
      "2   Germany  30.0  54000.0        No\n",
      "3     Spain  38.0  61000.0        No\n",
      "4   Germany  40.0      NaN       Yes\n",
      "5    France  35.0  58000.0       Yes\n",
      "6     Spain   NaN  52000.0        No\n",
      "7    France  48.0  79000.0       Yes\n",
      "8   Germany  50.0  83000.0        No\n",
      "9    France  37.0  67000.0       Yes\n",
      "10    India   NaN  78000.0        No\n",
      "11    India  28.0      NaN       Yes\n",
      "12    Spain  36.0  56000.0       Yes\n",
      "13   France  42.0  70000.0       Yes\n",
      "14  Germany  50.0  86000.0        No\n",
      "15    India  30.0  90000.0       Yes\n",
      "#############################\n",
      "     Age   Salary Purchased\n",
      "0   44.0  72000.0        No\n",
      "1   27.0  48000.0       Yes\n",
      "2   30.0  54000.0        No\n",
      "3   38.0  61000.0        No\n",
      "4   40.0      NaN       Yes\n",
      "5   35.0  58000.0       Yes\n",
      "6    NaN  52000.0        No\n",
      "7   48.0  79000.0       Yes\n",
      "8   50.0  83000.0        No\n",
      "9   37.0  67000.0       Yes\n",
      "10   NaN  78000.0        No\n",
      "11  28.0      NaN       Yes\n",
      "12  36.0  56000.0       Yes\n",
      "13  42.0  70000.0       Yes\n",
      "14  50.0  86000.0        No\n",
      "15  30.0  90000.0       Yes\n",
      "#############################\n"
     ]
    }
   ],
   "source": [
    "#### dropping columns\n",
    "print(df)\n",
    "print(\"#############################\")\n",
    "df = df.drop('Country',1)\n",
    "print(df)\n",
    "print(\"#############################\")"
   ]
  },
  {
   "cell_type": "code",
   "execution_count": 13,
   "metadata": {
    "ExecuteTime": {
     "end_time": "2018-09-10T05:40:38.014959Z",
     "start_time": "2018-09-10T05:40:37.962781Z"
    }
   },
   "outputs": [
    {
     "name": "stdout",
     "output_type": "stream",
     "text": [
      "     Age   Salary Purchased Country\n",
      "0   44.0  72000.0        No   india\n",
      "1   27.0  48000.0       Yes   india\n",
      "2   30.0  54000.0        No   india\n",
      "3   38.0  61000.0        No   india\n",
      "4   40.0      NaN       Yes   india\n",
      "5   35.0  58000.0       Yes   india\n",
      "6    NaN  52000.0        No   india\n",
      "7   48.0  79000.0       Yes   india\n",
      "8   50.0  83000.0        No   india\n",
      "9   37.0  67000.0       Yes   india\n",
      "10   NaN  78000.0        No   india\n",
      "11  28.0      NaN       Yes   india\n",
      "12  36.0  56000.0       Yes   india\n",
      "13  42.0  70000.0       Yes   india\n",
      "14  50.0  86000.0        No   india\n",
      "15  30.0  90000.0       Yes   india\n"
     ]
    }
   ],
   "source": [
    "#### Adding Columns\n",
    "df['Country'] = 'india'\n",
    "print(df)"
   ]
  },
  {
   "cell_type": "code",
   "execution_count": 14,
   "metadata": {
    "ExecuteTime": {
     "end_time": "2018-09-10T05:40:38.170094Z",
     "start_time": "2018-09-10T05:40:38.047681Z"
    }
   },
   "outputs": [
    {
     "name": "stdout",
     "output_type": "stream",
     "text": [
      "     Age   Salary Purchased Country\n",
      "0   44.0  72000.0        No   india\n",
      "1   27.0  48000.0       Yes   india\n",
      "2   30.0  54000.0        No   india\n",
      "3   38.0  61000.0        No   india\n",
      "4   40.0      NaN       Yes   india\n",
      "5   35.0  58000.0       Yes   india\n",
      "6    NaN  52000.0        No   india\n",
      "7   48.0  79000.0       Yes   india\n",
      "8   50.0  83000.0        No   india\n",
      "9   37.0  67000.0       Yes   india\n",
      "10   NaN  78000.0        No   india\n",
      "11  28.0      NaN       Yes   india\n",
      "12  36.0  56000.0       Yes   india\n",
      "13  42.0  70000.0       Yes   india\n",
      "14  50.0  86000.0        No   india\n",
      "15  30.0  90000.0       Yes   india\n",
      "#############################\n",
      "     Age   Salary Purchased Country\n",
      "0   44.0  72000.0        No   india\n",
      "2   30.0  54000.0        No   india\n",
      "3   38.0  61000.0        No   india\n",
      "4   40.0      NaN       Yes   india\n",
      "5   35.0  58000.0       Yes   india\n",
      "6    NaN  52000.0        No   india\n",
      "7   48.0  79000.0       Yes   india\n",
      "8   50.0  83000.0        No   india\n",
      "9   37.0  67000.0       Yes   india\n",
      "10   NaN  78000.0        No   india\n",
      "11  28.0      NaN       Yes   india\n",
      "12  36.0  56000.0       Yes   india\n",
      "13  42.0  70000.0       Yes   india\n",
      "14  50.0  86000.0        No   india\n",
      "15  30.0  90000.0       Yes   india\n",
      "#############################\n"
     ]
    }
   ],
   "source": [
    "### dropping rows\n",
    "print(df)\n",
    "print(\"#############################\")\n",
    "df = df.drop(1,0)\n",
    "print(df)\n",
    "print(\"#############################\")"
   ]
  },
  {
   "cell_type": "code",
   "execution_count": 15,
   "metadata": {
    "ExecuteTime": {
     "end_time": "2018-09-10T05:40:38.247378Z",
     "start_time": "2018-09-10T05:40:38.183781Z"
    }
   },
   "outputs": [
    {
     "name": "stdout",
     "output_type": "stream",
     "text": [
      "     Age   Salary Purchased Country\n",
      "0   44.0  72000.0        No   india\n",
      "2   30.0  54000.0        No   india\n",
      "3   38.0  61000.0        No   india\n",
      "4   40.0      NaN       Yes   india\n",
      "5   35.0  58000.0       Yes   india\n",
      "6    NaN  52000.0        No   india\n",
      "7   48.0  79000.0       Yes   india\n",
      "8   50.0  83000.0        No   india\n",
      "9   37.0  67000.0       Yes   india\n",
      "10   NaN  78000.0        No   india\n",
      "11  28.0      NaN       Yes   india\n",
      "12  36.0  56000.0       Yes   india\n",
      "13  42.0  70000.0       Yes   india\n",
      "14  50.0  86000.0        No   india\n",
      "15  30.0  90000.0       Yes   india\n",
      "#############################\n"
     ]
    }
   ],
   "source": [
    "### Adding rows\n",
    "\n",
    "print(df)\n",
    "print(\"#############################\")\n",
    "df2 = df[4:7]\n",
    "df = df.drop(4,0)\n",
    "df = df.drop(5,0)\n",
    "df = df.drop(6,0)"
   ]
  },
  {
   "cell_type": "code",
   "execution_count": 16,
   "metadata": {
    "ExecuteTime": {
     "end_time": "2018-09-10T05:40:38.310494Z",
     "start_time": "2018-09-10T05:40:38.258851Z"
    }
   },
   "outputs": [
    {
     "name": "stdout",
     "output_type": "stream",
     "text": [
      "    Age   Salary Purchased Country\n",
      "5  35.0  58000.0       Yes   india\n",
      "6   NaN  52000.0        No   india\n",
      "7  48.0  79000.0       Yes   india\n",
      "#############################\n",
      "     Age   Salary Purchased Country\n",
      "0   44.0  72000.0        No   india\n",
      "2   30.0  54000.0        No   india\n",
      "3   38.0  61000.0        No   india\n",
      "7   48.0  79000.0       Yes   india\n",
      "8   50.0  83000.0        No   india\n",
      "9   37.0  67000.0       Yes   india\n",
      "10   NaN  78000.0        No   india\n",
      "11  28.0      NaN       Yes   india\n",
      "12  36.0  56000.0       Yes   india\n",
      "13  42.0  70000.0       Yes   india\n",
      "14  50.0  86000.0        No   india\n",
      "15  30.0  90000.0       Yes   india\n",
      "5   35.0  58000.0       Yes   india\n",
      "6    NaN  52000.0        No   india\n",
      "7   48.0  79000.0       Yes   india\n",
      "#############################\n"
     ]
    }
   ],
   "source": [
    "print(df2)\n",
    "print(\"#############################\")\n",
    "df = df.append(df2)\n",
    "print(df)\n",
    "print(\"#############################\")"
   ]
  },
  {
   "cell_type": "code",
   "execution_count": 17,
   "metadata": {
    "ExecuteTime": {
     "end_time": "2018-09-10T05:40:38.390321Z",
     "start_time": "2018-09-10T05:40:38.317744Z"
    }
   },
   "outputs": [
    {
     "name": "stdout",
     "output_type": "stream",
     "text": [
      "     Age   Salary Purchased Country\n",
      "0   44.0  72000.0        No   india\n",
      "2   30.0  54000.0        No   india\n",
      "3   38.0  61000.0        No   india\n",
      "7   48.0  79000.0       Yes   india\n",
      "8   50.0  83000.0        No   india\n",
      "9   37.0  67000.0       Yes   india\n",
      "10   NaN  78000.0        No   india\n",
      "11  28.0      NaN       Yes   india\n",
      "12  36.0  56000.0       Yes   india\n",
      "13  42.0  70000.0       Yes   india\n",
      "14  50.0  86000.0        No   india\n",
      "15  30.0  90000.0       Yes   india\n",
      "5   35.0  58000.0       Yes   india\n",
      "6    NaN  52000.0        No   india\n",
      "7   48.0  79000.0       Yes   india\n",
      "#############################\n",
      "     Age   Salary Purchased Country\n",
      "8   50.0  83000.0        No   india\n",
      "14  50.0  86000.0        No   india\n",
      "7   48.0  79000.0       Yes   india\n",
      "7   48.0  79000.0       Yes   india\n",
      "0   44.0  72000.0        No   india\n",
      "13  42.0  70000.0       Yes   india\n",
      "3   38.0  61000.0        No   india\n",
      "9   37.0  67000.0       Yes   india\n",
      "12  36.0  56000.0       Yes   india\n",
      "5   35.0  58000.0       Yes   india\n",
      "2   30.0  54000.0        No   india\n",
      "15  30.0  90000.0       Yes   india\n",
      "11  28.0      NaN       Yes   india\n",
      "10   NaN  78000.0        No   india\n",
      "6    NaN  52000.0        No   india\n",
      "#############################\n"
     ]
    }
   ],
   "source": [
    "#### Sorting\n",
    "print(df)\n",
    "print(\"#############################\")\n",
    "df1 = df.sort_values(by='Age', ascending = False)\n",
    "print(df1)\n",
    "print(\"#############################\")"
   ]
  },
  {
   "cell_type": "code",
   "execution_count": 18,
   "metadata": {
    "ExecuteTime": {
     "end_time": "2018-09-10T05:40:38.546293Z",
     "start_time": "2018-09-10T05:40:38.397620Z"
    },
    "scrolled": true
   },
   "outputs": [
    {
     "name": "stdout",
     "output_type": "stream",
     "text": [
      "     Age   Salary Purchased Country\n",
      "0   44.0  72000.0        No   india\n",
      "2   30.0  54000.0        No   india\n",
      "3   38.0  61000.0        No   india\n",
      "7   48.0  79000.0       Yes   india\n",
      "8   50.0  83000.0        No   india\n",
      "9   37.0  67000.0       Yes   india\n",
      "10   NaN  78000.0        No   india\n",
      "11  28.0      NaN       Yes   india\n",
      "12  36.0  56000.0       Yes   india\n",
      "13  42.0  70000.0       Yes   india\n",
      "14  50.0  86000.0        No   india\n",
      "15  30.0  90000.0       Yes   india\n",
      "5   35.0  58000.0       Yes   india\n",
      "6    NaN  52000.0        No   india\n",
      "7   48.0  79000.0       Yes   india\n",
      "#############################\n",
      "     Age   Salary Purchased Country\n",
      "0   44.0      0.0        No   india\n",
      "2   30.0  54000.0        No   india\n",
      "3   38.0  61000.0        No   india\n",
      "7   48.0      0.0       Yes   india\n",
      "8   50.0      0.0        No   india\n",
      "9   37.0  67000.0       Yes   india\n",
      "10   NaN  78000.0        No   india\n",
      "11  28.0      NaN       Yes   india\n",
      "12  36.0  56000.0       Yes   india\n",
      "13  42.0      0.0       Yes   india\n",
      "14  50.0      0.0        No   india\n",
      "15  30.0  90000.0       Yes   india\n",
      "5   35.0  58000.0       Yes   india\n",
      "6    NaN  52000.0        No   india\n",
      "7   48.0      0.0       Yes   india\n",
      "#############################\n",
      "     Age   Salary Purchased Country\n",
      "0   44.0      0.0        No   india\n",
      "2   30.0  54000.0        No   india\n",
      "3   38.0  61000.0        No   india\n",
      "7   48.0      0.0       Yes   india\n",
      "8   50.0      0.0        No   india\n",
      "9   37.0  67000.0       Yes   india\n",
      "10   NaN  78000.0        No   india\n",
      "11  28.0      NaN       Yes   india\n",
      "12  36.0  56000.0       Yes   india\n",
      "13  42.0      0.0       Yes   india\n",
      "14  50.0      0.0        No   india\n",
      "15  30.0  90000.0       Yes   india\n",
      "5   35.0  58000.0       Yes   india\n",
      "6    NaN  52000.0        No   india\n",
      "7   48.0      0.0       Yes   india\n",
      "#############################\n",
      "     Age   Salary Purchased Country\n",
      "0   44.0      0.0        No   india\n",
      "2   30.0  54000.0        No   india\n",
      "3   38.0  61000.0        No   india\n",
      "7   48.0      0.0       Yes   india\n",
      "8   50.0      0.0        No   india\n",
      "9   37.0  67000.0       Yes   india\n",
      "10   NaN  78000.0        No   india\n",
      "11  28.0      NaN       Yes   india\n",
      "12  36.0  56000.0       Yes   india\n",
      "13  42.0      0.0       Yes   india\n",
      "14  50.0      0.0        No   india\n",
      "15  30.0  90000.0       Yes   india\n",
      "5   35.0  58000.0       Yes   india\n",
      "6    NaN  52000.0        No   india\n",
      "7   48.0      0.0       Yes   india\n",
      "#############################\n"
     ]
    }
   ],
   "source": [
    "#### Boolean Indexing\n",
    "print(df)\n",
    "print(\"#############################\")\n",
    "df.loc[df['Age']>40,'Salary'] = 0 #### Replace Salary as zero in rows where Age value is greater than 40\n",
    "print(df)\n",
    "print(\"#############################\")\n",
    "df.loc[((df['Age']>40) & (df['Country']=='Germany')),'Salary'] = 0 ##### Multiple Conditions\n",
    "print(df)\n",
    "print(\"#############################\")\n",
    "df.loc[((df['Age']>40) & (df['Country']=='France')),['Salary','Age']] = 0 ##### Multiple Conditions\n",
    "print(df)\n",
    "print(\"#############################\")"
   ]
  },
  {
   "cell_type": "code",
   "execution_count": 19,
   "metadata": {
    "ExecuteTime": {
     "end_time": "2018-09-10T05:40:38.609073Z",
     "start_time": "2018-09-10T05:40:38.548936Z"
    }
   },
   "outputs": [
    {
     "name": "stdout",
     "output_type": "stream",
     "text": [
      "<class 'pandas.core.frame.DataFrame'>\n",
      "Int64Index: 15 entries, 0 to 7\n",
      "Data columns (total 4 columns):\n",
      "Age          13 non-null float64\n",
      "Salary       14 non-null float64\n",
      "Purchased    15 non-null object\n",
      "Country      15 non-null object\n",
      "dtypes: float64(2), object(2)\n",
      "memory usage: 600.0+ bytes\n",
      "None\n",
      "#############################\n"
     ]
    }
   ],
   "source": [
    "#### Other Data Series Information\n",
    "print(df.info()) #### Get general information about the dataset\n",
    "print(\"#############################\")"
   ]
  },
  {
   "cell_type": "code",
   "execution_count": 20,
   "metadata": {
    "ExecuteTime": {
     "end_time": "2018-09-10T05:40:38.745304Z",
     "start_time": "2018-09-10T05:40:38.618788Z"
    }
   },
   "outputs": [
    {
     "name": "stdout",
     "output_type": "stream",
     "text": [
      "             Age        Salary\n",
      "count  13.000000     14.000000\n",
      "mean   39.692308  36857.142857\n",
      "std     7.878077  34525.034714\n",
      "min    28.000000      0.000000\n",
      "25%    35.000000      0.000000\n",
      "50%    38.000000  53000.000000\n",
      "75%    48.000000  60250.000000\n",
      "max    50.000000  90000.000000\n",
      "#############################\n"
     ]
    }
   ],
   "source": [
    "#### Other Data Series Information\n",
    "print(df.describe()) ### Get an overall summary of counts, quantiles\n",
    "print(\"#############################\")"
   ]
  }
 ],
 "metadata": {
  "kernelspec": {
   "display_name": "Python 3",
   "language": "python",
   "name": "python3"
  },
  "language_info": {
   "codemirror_mode": {
    "name": "ipython",
    "version": 3
   },
   "file_extension": ".py",
   "mimetype": "text/x-python",
   "name": "python",
   "nbconvert_exporter": "python",
   "pygments_lexer": "ipython3",
   "version": "3.6.1"
  },
  "varInspector": {
   "cols": {
    "lenName": 16,
    "lenType": 16,
    "lenVar": 40
   },
   "kernels_config": {
    "python": {
     "delete_cmd_postfix": "",
     "delete_cmd_prefix": "del ",
     "library": "var_list.py",
     "varRefreshCmd": "print(var_dic_list())"
    },
    "r": {
     "delete_cmd_postfix": ") ",
     "delete_cmd_prefix": "rm(",
     "library": "var_list.r",
     "varRefreshCmd": "cat(var_dic_list()) "
    }
   },
   "types_to_exclude": [
    "module",
    "function",
    "builtin_function_or_method",
    "instance",
    "_Feature"
   ],
   "window_display": true
  }
 },
 "nbformat": 4,
 "nbformat_minor": 2
}
