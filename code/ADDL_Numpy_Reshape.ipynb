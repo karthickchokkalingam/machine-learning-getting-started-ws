{
 "cells": [
  {
   "cell_type": "markdown",
   "metadata": {},
   "source": [
    "#####  The Numpy reshape function\n",
    "\n",
    "Its common to find reshape errors when working with Machine Learning. This is owing to the fact that some of the libraries expect us to provide with a multi-dimensional array or an array of specific dimension as input. In such events we need to reshape our input array. Its better to understand the reshape function as this will help us achieve the reshaping easily. "
   ]
  },
  {
   "cell_type": "code",
   "execution_count": 15,
   "metadata": {
    "ExecuteTime": {
     "end_time": "2018-11-18T02:57:53.491617Z",
     "start_time": "2018-11-18T02:57:53.488071Z"
    },
    "collapsed": true
   },
   "outputs": [],
   "source": [
    "import numpy as np"
   ]
  },
  {
   "cell_type": "code",
   "execution_count": 31,
   "metadata": {
    "ExecuteTime": {
     "end_time": "2018-11-18T04:21:28.017768Z",
     "start_time": "2018-11-18T04:21:27.991800Z"
    }
   },
   "outputs": [
    {
     "name": "stdout",
     "output_type": "stream",
     "text": [
      "(8,)\n",
      "[0 1 2 3 4 5 6 7]\n",
      "(8, 1)\n",
      "[[0]\n",
      " [1]\n",
      " [2]\n",
      " [3]\n",
      " [4]\n",
      " [5]\n",
      " [6]\n",
      " [7]]\n",
      "(1, 8)\n",
      "[[0 1 2 3 4 5 6 7]]\n",
      "(8,)\n",
      "[0 1 2 3 4 5 6 7]\n"
     ]
    }
   ],
   "source": [
    "a = np.arange(8)\n",
    "print(a.shape)\n",
    "print(a)\n",
    "\n",
    "a = a.reshape(-1,1)\n",
    "print(a.shape)\n",
    "print(a)\n",
    "\n",
    "a = a.reshape(1,-1)\n",
    "print(a.shape)\n",
    "print(a)\n",
    "\n",
    "a = a.ravel()\n",
    "#a = a.reshape(-1)\n",
    "print(a.shape)\n",
    "print(a)"
   ]
  },
  {
   "cell_type": "code",
   "execution_count": 28,
   "metadata": {
    "ExecuteTime": {
     "end_time": "2018-11-18T03:00:37.792560Z",
     "start_time": "2018-11-18T03:00:37.761247Z"
    }
   },
   "outputs": [
    {
     "name": "stdout",
     "output_type": "stream",
     "text": [
      "(2, 3)\n",
      "[[1 2 4]\n",
      " [5 6 7]]\n",
      "(3, 2)\n",
      "[[1 2]\n",
      " [4 5]\n",
      " [6 7]]\n",
      "(1, 6)\n",
      "[[1 2 4 5 6 7]]\n"
     ]
    }
   ],
   "source": [
    "b = np.array([[1, 2, 4], [5, 6, 7]])\n",
    "print(b.shape)\n",
    "print(b)\n",
    "\n",
    "b = b.reshape(3,-1)\n",
    "print(b.shape)\n",
    "print(b)\n",
    "\n",
    "b = b.reshape(-1,6)\n",
    "print(b.shape)\n",
    "print(b)"
   ]
  }
 ],
 "metadata": {
  "kernelspec": {
   "display_name": "Python 3",
   "language": "python",
   "name": "python3"
  },
  "language_info": {
   "codemirror_mode": {
    "name": "ipython",
    "version": 3
   },
   "file_extension": ".py",
   "mimetype": "text/x-python",
   "name": "python",
   "nbconvert_exporter": "python",
   "pygments_lexer": "ipython3",
   "version": "3.6.1"
  }
 },
 "nbformat": 4,
 "nbformat_minor": 2
}
