{
 "cells": [
  {
   "cell_type": "markdown",
   "metadata": {},
   "source": [
    "### Python Basics & Getting Started"
   ]
  },
  {
   "cell_type": "markdown",
   "metadata": {},
   "source": [
    "#####  Variables"
   ]
  },
  {
   "cell_type": "code",
   "execution_count": 1,
   "metadata": {
    "ExecuteTime": {
     "end_time": "2018-08-04T05:42:19.329292Z",
     "start_time": "2018-08-04T05:42:19.307419Z"
    },
    "code_folding": []
   },
   "outputs": [
    {
     "name": "stdout",
     "output_type": "stream",
     "text": [
      "1\n",
      "hello\n",
      "5 hello a\n",
      "a\n",
      "5 hello a\n",
      "25\n",
      "helloa\n"
     ]
    }
   ],
   "source": [
    "#### Variable Declaration\n",
    "\n",
    "### Integer Variable\n",
    "i = 1\n",
    "print(i)\n",
    "### String\n",
    "name = 'hello'\n",
    "print(name)\n",
    "### Character\n",
    "ch = 'a'\n",
    "\n",
    "print(i,name,ch)\n",
    "ch = 'a'\n",
    "print(ch)\n",
    "\n",
    "##### Modifying the Print Statements\n",
    "print(i,name,ch)\n",
    "print(i*5)\n",
    "print(name + ch)"
   ]
  },
  {
   "cell_type": "code",
   "execution_count": 1,
   "metadata": {
    "ExecuteTime": {
     "end_time": "2018-09-15T06:37:49.647315Z",
     "start_time": "2018-09-15T06:37:49.603486Z"
    },
    "code_folding": []
   },
   "outputs": [
    {
     "name": "stdout",
     "output_type": "stream",
     "text": [
      "[120, 130, 140, 150]\n",
      "120\n",
      "150\n",
      "130\n",
      "[130, 140, 150]\n",
      "4\n",
      "3\n",
      "['Chennai', 'Delhi', 'Mumbai']\n",
      "Chennai\n",
      "Mumbai\n",
      "3\n",
      "C\n",
      "7\n",
      "hen\n",
      "['Chennai', 'Delhi', 'Mumbai']\n"
     ]
    }
   ],
   "source": [
    "#### List - List are arrays of numbers of strings\n",
    "\n",
    "price = [120,130,140,150]\n",
    "city = ['Chennai','Delhi','Mumbai']\n",
    "\n",
    "#### Printing lists\n",
    "\n",
    "print(price)\n",
    "print(price[0])\n",
    "print(price[3])\n",
    "print(price[-3])\n",
    "print(price[1:4])\n",
    "print(len(price))\n",
    "print(len(price[1:4]))\n",
    "\n",
    "print(city)\n",
    "print(city[0])\n",
    "print(city[2])\n",
    "print(len(city))\n",
    "print(city[0][0])\n",
    "print(len(city[0]))\n",
    "print(city[0][1:4])\n",
    "print(city[:])"
   ]
  },
  {
   "cell_type": "code",
   "execution_count": 4,
   "metadata": {
    "ExecuteTime": {
     "end_time": "2018-09-10T05:31:59.773475Z",
     "start_time": "2018-09-10T05:31:59.751341Z"
    },
    "code_folding": []
   },
   "outputs": [
    {
     "name": "stdout",
     "output_type": "stream",
     "text": [
      "[120, 130, 140, 150]\n",
      "[120, 130, 140, 150, 120]\n",
      "3\n",
      "[130, 140, 150, 120]\n",
      "[130, 140, 150, 309, 120]\n",
      "[130, 140, 150, 120]\n",
      "[120, 130, 140, 150, 120]\n",
      "2\n"
     ]
    }
   ],
   "source": [
    "#### Other List Operations\n",
    "print(price)\n",
    "price.append(120)\n",
    "print(price)\n",
    "print(price.index(150)) #### returns the index of the first occurance\n",
    "price.remove(120)\n",
    "print(price) ### removes the first occurance\n",
    "price.insert(3,309)\n",
    "print(price)\n",
    "price.pop(-2) #### remove the nth value from the last\n",
    "print(price)\n",
    "price.sort()\n",
    "price.append(120)\n",
    "print(price)\n",
    "print(price.count(120))"
   ]
  },
  {
   "cell_type": "code",
   "execution_count": 9,
   "metadata": {
    "ExecuteTime": {
     "end_time": "2018-07-07T06:02:22.531728Z",
     "start_time": "2018-07-07T06:02:22.521807Z"
    },
    "code_folding": []
   },
   "outputs": [
    {
     "name": "stdout",
     "output_type": "stream",
     "text": [
      "{'red': 'rot', 'green': 'grün', 'blue': 'blau', 'yellow': 'gelb'}\n",
      "##########################\n",
      "grün\n"
     ]
    }
   ],
   "source": [
    "##### Python Dictionary\n",
    "en_de = {\"red\" : \"rot\", \"green\" : \"grün\", \"blue\" : \"blau\", \"yellow\":\"gelb\"}\n",
    "print(en_de)\n",
    "print(\"##########################\")\n",
    "print(en_de[\"green\"])"
   ]
  },
  {
   "cell_type": "code",
   "execution_count": 10,
   "metadata": {
    "ExecuteTime": {
     "end_time": "2018-07-07T06:03:28.409077Z",
     "start_time": "2018-07-07T06:03:28.402013Z"
    },
    "code_folding": []
   },
   "outputs": [
    {
     "name": "stdout",
     "output_type": "stream",
     "text": [
      "2\n",
      "120\n"
     ]
    }
   ],
   "source": [
    "#### Datatype conversion\n",
    "a =str(price[0])\n",
    "print(a[1])\n",
    "i = int(a)\n",
    "print(i)"
   ]
  },
  {
   "cell_type": "markdown",
   "metadata": {},
   "source": [
    "#####  Conditional Statements - There are no Brackets used for Blocks of Code - Python is based on INDENDATION using tabs"
   ]
  },
  {
   "cell_type": "code",
   "execution_count": 2,
   "metadata": {
    "ExecuteTime": {
     "end_time": "2018-09-15T07:06:53.665961Z",
     "start_time": "2018-09-15T07:06:53.650209Z"
    },
    "code_folding": []
   },
   "outputs": [
    {
     "name": "stdout",
     "output_type": "stream",
     "text": [
      "true\n",
      "hello\n"
     ]
    }
   ],
   "source": [
    "##### If else statements\n",
    "\n",
    "if(price[0] == 120):\n",
    "    print(\"true\")\n",
    "    print(\"hello\")\n",
    "else:\n",
    "    print(\"false\")"
   ]
  },
  {
   "cell_type": "markdown",
   "metadata": {},
   "source": [
    "#####  Iteration Statements in python"
   ]
  },
  {
   "cell_type": "code",
   "execution_count": 12,
   "metadata": {
    "ExecuteTime": {
     "end_time": "2018-07-07T06:12:20.281966Z",
     "start_time": "2018-07-07T06:12:20.274440Z"
    },
    "code_folding": []
   },
   "outputs": [
    {
     "name": "stdout",
     "output_type": "stream",
     "text": [
      "120\n",
      "120\n",
      "150\n",
      "190\n",
      "190\n",
      "190\n",
      "190\n",
      "309\n",
      "120\n"
     ]
    }
   ],
   "source": [
    "### For Loops\n",
    "for i in range(0,len(price)):\n",
    "    print(price[i])"
   ]
  },
  {
   "cell_type": "code",
   "execution_count": 3,
   "metadata": {
    "ExecuteTime": {
     "end_time": "2018-09-15T07:12:13.156005Z",
     "start_time": "2018-09-15T07:12:13.147584Z"
    },
    "code_folding": []
   },
   "outputs": [
    {
     "name": "stdout",
     "output_type": "stream",
     "text": [
      "(0, 120)\n",
      "120\n",
      "(1, 130)\n",
      "130\n",
      "(2, 140)\n",
      "140\n",
      "(3, 150)\n",
      "150\n"
     ]
    }
   ],
   "source": [
    "for i in enumerate(price):\n",
    "    print(i)\n",
    "    print(i[1])"
   ]
  },
  {
   "cell_type": "code",
   "execution_count": 14,
   "metadata": {
    "ExecuteTime": {
     "end_time": "2018-07-07T06:16:53.950174Z",
     "start_time": "2018-07-07T06:16:53.932797Z"
    },
    "code_folding": []
   },
   "outputs": [
    {
     "name": "stdout",
     "output_type": "stream",
     "text": [
      "(0, 'Chennai')\n",
      "Chennai\n",
      "C\n",
      "(1, 'Delhi')\n",
      "Delhi\n",
      "D\n",
      "(2, 'Mumbai')\n",
      "Mumbai\n",
      "M\n"
     ]
    }
   ],
   "source": [
    "for i in enumerate(city):\n",
    "    print(i)    \n",
    "    print(i[1])\n",
    "    print(i[1][0])"
   ]
  },
  {
   "cell_type": "code",
   "execution_count": 4,
   "metadata": {
    "ExecuteTime": {
     "end_time": "2018-09-15T07:17:41.306998Z",
     "start_time": "2018-09-15T07:17:41.287827Z"
    },
    "code_folding": [],
    "collapsed": true
   },
   "outputs": [
    {
     "name": "stdout",
     "output_type": "stream",
     "text": [
      "(0, 'Chennai')\n",
      "Chennai\n",
      "C\n",
      "(1, 'Delhi')\n",
      "D\n",
      "(2, 'Mumbai')\n",
      "Mumbai\n",
      "M\n"
     ]
    }
   ],
   "source": [
    "#### Pass statement\n",
    "for i in enumerate(city):\n",
    "    print(i)    \n",
    "    if(i[1] == 'Delhi'):\n",
    "        pass\n",
    "    else:        \n",
    "        print(i[1])\n",
    "    print(i[1][0])"
   ]
  },
  {
   "cell_type": "code",
   "execution_count": 5,
   "metadata": {
    "ExecuteTime": {
     "end_time": "2018-09-15T07:18:03.618280Z",
     "start_time": "2018-09-15T07:18:03.610431Z"
    },
    "code_folding": []
   },
   "outputs": [
    {
     "name": "stdout",
     "output_type": "stream",
     "text": [
      "Chennai\n",
      "Delhi\n",
      "Mumbai\n"
     ]
    }
   ],
   "source": [
    "#### While statements\n",
    "i = 0\n",
    "while(i<len(city)):\n",
    "    print(city[i])\n",
    "    i +=1"
   ]
  },
  {
   "cell_type": "markdown",
   "metadata": {},
   "source": [
    "#####  Functions"
   ]
  },
  {
   "cell_type": "code",
   "execution_count": 8,
   "metadata": {
    "ExecuteTime": {
     "end_time": "2018-08-04T06:45:09.734551Z",
     "start_time": "2018-08-04T06:45:09.716601Z"
    },
    "code_folding": []
   },
   "outputs": [
    {
     "name": "stdout",
     "output_type": "stream",
     "text": [
      "(5, 8)\n"
     ]
    }
   ],
   "source": [
    "#### Functions\n",
    "j = 3\n",
    "def do_addition(a, b):\n",
    "    global j\n",
    "    c = a + b\n",
    "    d = a + b + j,\n",
    "    return c, d\n",
    "\n",
    "print(do_addition(2,3))"
   ]
  },
  {
   "cell_type": "code",
   "execution_count": 27,
   "metadata": {
    "ExecuteTime": {
     "end_time": "2018-07-07T06:42:11.857127Z",
     "start_time": "2018-07-07T06:42:11.845238Z"
    },
    "code_folding": []
   },
   "outputs": [
    {
     "name": "stdout",
     "output_type": "stream",
     "text": [
      "7\n"
     ]
    }
   ],
   "source": [
    "#### Anonymous Functions - Lambda Functions\n",
    "add = lambda a,b: a+b\n",
    "print(add(3,4))"
   ]
  },
  {
   "cell_type": "code",
   "execution_count": 28,
   "metadata": {
    "ExecuteTime": {
     "end_time": "2018-07-07T06:43:10.240464Z",
     "start_time": "2018-07-07T06:43:10.228270Z"
    },
    "code_folding": []
   },
   "outputs": [
    {
     "name": "stdout",
     "output_type": "stream",
     "text": [
      "82.0\n"
     ]
    }
   ],
   "source": [
    "#### Lambda\n",
    "import math\n",
    "root = lambda a: (math.sqrt(a) + (a**2 + a**3))\n",
    "print(root(4))"
   ]
  },
  {
   "cell_type": "markdown",
   "metadata": {},
   "source": [
    "### END of Python Basics ##### "
   ]
  }
 ],
 "metadata": {
  "kernelspec": {
   "display_name": "Python 3",
   "language": "python",
   "name": "python3"
  },
  "language_info": {
   "codemirror_mode": {
    "name": "ipython",
    "version": 3
   },
   "file_extension": ".py",
   "mimetype": "text/x-python",
   "name": "python",
   "nbconvert_exporter": "python",
   "pygments_lexer": "ipython3",
   "version": "3.6.1"
  },
  "varInspector": {
   "cols": {
    "lenName": 16,
    "lenType": 16,
    "lenVar": 40
   },
   "kernels_config": {
    "python": {
     "delete_cmd_postfix": "",
     "delete_cmd_prefix": "del ",
     "library": "var_list.py",
     "varRefreshCmd": "print(var_dic_list())"
    },
    "r": {
     "delete_cmd_postfix": ") ",
     "delete_cmd_prefix": "rm(",
     "library": "var_list.r",
     "varRefreshCmd": "cat(var_dic_list()) "
    }
   },
   "types_to_exclude": [
    "module",
    "function",
    "builtin_function_or_method",
    "instance",
    "_Feature"
   ],
   "window_display": false
  }
 },
 "nbformat": 4,
 "nbformat_minor": 2
}
